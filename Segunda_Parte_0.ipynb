{
 "cells": [
  {
   "cell_type": "code",
   "execution_count": null,
   "metadata": {},
   "outputs": [],
   "source": [
    "#### En este primer avance del código es solo un adelanto el cual aún no nos compila un grafo,\n",
    "# ya que solo nos da una idea o concepto de como iniciar un programa de grafos utilizando los comandos mostrados."
   ]
  },
  {
   "cell_type": "code",
   "execution_count": 13,
   "metadata": {},
   "outputs": [
    {
     "name": "stdout",
     "output_type": "stream",
     "text": [
      " [1] 2 7 8 3 9 1 5 4 6 0\n"
     ]
    }
   ],
   "source": [
    "#Devuelve una permutación de un vector usando ordenamiento lexicográfico.\n",
    "library(igraph)\n",
    "\n",
    "## https://www.r-bloggers.com/lexicographic-permutations-euler-problem-24/\n",
    "\n",
    "nextPerm <- function(a) {\n",
    "  # Encuentra el sufijo no creciente más largo.\n",
    "  i <- length(a) \n",
    "  \n",
    "  while (i > 1 && a[i - 1] >= a[i])\n",
    "    i <- i - 1\n",
    "  # i es el índice de cabeza del sufijo.\n",
    "  # ¿Estamos en la última permutación?\n",
    "  if (i <= 1) return(NULL)\n",
    "  #a[i-1] es el pivote.\n",
    "  # Encuentra el elemento más a la derecha que excede el pivote.\n",
    "  j <- length(a)\n",
    "  while (a[j] <= a[i - 1]) \n",
    "    j <- j - 1\n",
    "  #intercambiar pivote con j.\n",
    "  aux <- a[i - 1]\n",
    "  a[i - 1] <- a[j]\n",
    "  a[j] <- aux\n",
    "  #Invierte el sufijo.\n",
    "  a[i:length(a)] <- rev(a[i:length(a)])\n",
    "  return(a)\n",
    "}\n",
    "\n",
    "#Inicializamos un vector.\n",
    "numbers <- 0:9\n",
    "for (i in 1:(1E6 - 1)) numbers <- nextPerm(numbers)\n",
    "answer <- numbers\n",
    "print(answer)\n"
   ]
  },
  {
   "cell_type": "code",
   "execution_count": 12,
   "metadata": {},
   "outputs": [
    {
     "name": "stdout",
     "output_type": "stream",
     "text": [
      " [1] 2 7 8 3 9 1 5 4 6 0\n"
     ]
    }
   ],
   "source": [
    "#Permuta los elementos ingresados."
   ]
  }
 ],
 "metadata": {
  "kernelspec": {
   "display_name": "R",
   "language": "R",
   "name": "ir"
  },
  "language_info": {
   "codemirror_mode": "r",
   "file_extension": ".r",
   "mimetype": "text/x-r-source",
   "name": "R",
   "pygments_lexer": "r",
   "version": "3.2.3"
  }
 },
 "nbformat": 4,
 "nbformat_minor": 2
}
